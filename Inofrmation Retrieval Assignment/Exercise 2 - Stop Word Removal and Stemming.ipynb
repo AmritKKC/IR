{
 "cells": [
  {
   "cell_type": "markdown",
   "metadata": {},
   "source": [
    "### Pre-processing of a Text Document: Stop Word Removal and Stemming."
   ]
  },
  {
   "cell_type": "code",
   "execution_count": 49,
   "metadata": {
    "scrolled": false
   },
   "outputs": [
    {
     "name": "stdout",
     "output_type": "stream",
     "text": [
      "Enter Filename : \n",
      "a\n",
      "\n",
      "Tokens before Stop Word Removal\n",
      " ['deep', 'learning', 'allows', 'computational', 'models', 'that', 'are', 'composed', 'of', 'multiple', 'processing', 'layers', 'to', 'learn', 'representations', 'of', 'data', 'with', 'multiple', 'levels', 'of', 'abstraction', 'these', 'methods', 'have', 'dramatically', 'improved', 'the', 'state', 'of', 'the', 'art', 'in', 'speech', 'recognition', 'visual', 'object', 'recognition', 'object', 'detection', 'and', 'many', 'other', 'domains', 'such', 'as', 'drug', 'discovery', 'and', 'genomics', 'deep', 'learning', 'discovers', 'intricate', 'structure', 'in', 'large', 'data', 'sets', 'by', 'using', 'the', 'backpropagation', 'algorithm', 'to', 'indicate', 'how', 'a', 'machine', 'should', 'change', 'its', 'internal', 'parameters', 'that', 'are', 'used', 'to', 'compute', 'the', 'representation', 'in', 'each', 'layer', 'from', 'the', 'representation', 'in', 'the', 'previous', 'layer', 'deep', 'convolutional', 'nets', 'have', 'brought', 'about', 'breakthroughs', 'in', 'processing', 'images', 'video', 'speech', 'and', 'audio', 'whereas', 'recurrent', 'nets', 'have', 'shone', 'light', 'on', 'sequential', 'data', 'such', 'as', 'text', 'and', 'speech']\n",
      "\n",
      "Tokens after Stop Word Removal\n",
      " ['deep', 'learning', 'allows', 'computational', 'models', 'are', 'composed', 'multiple', 'processing', 'layers', 'learn', 'representations', 'data', 'multiple', 'levels', 'abstraction', 'methods', 'dramatically', 'improved', 'state', 'art', 'speech', 'recognition', 'visual', 'object', 'recognition', 'object', 'detection', 'many', 'domains', 'as', 'discovery', 'genomics', 'deep', 'learning', 'discovers', 'intricate', 'structure', 'large', 'data', 'sets', 'using', 'backpropagation', 'algorithm', 'indicate', 'a', 'machine', 'change', 'internal', 'parameters', 'are', 'used', 'compute', 'the', 'representation', 'each', 'layer', 'the', 'representation', 'the', 'previous', 'layer', 'deep', 'convolutional', 'nets', 'brought', 'breakthroughs', 'processing', 'images', 'video', 'speech', 'audio', 'whereas', 'recurrent', 'nets', 'shone', 'light', 'sequential', 'data', 'as', 'text', 'speech']\n",
      "\n",
      "Tokens after Stemming\n",
      " ['deep', 'learn', 'allow', 'comput', 'model', 'are', 'compos', 'multipl', 'process', 'layer', 'learn', 'represent', 'data', 'multipl', 'level', 'abstract', 'method', 'dramat', 'improv', 'state', 'art', 'speech', 'recognit', 'visual', 'object', 'recognit', 'object', 'detect', 'mani', 'domain', 'as', 'discoveri', 'genom', 'deep', 'learn', 'discov', 'intric', 'structur', 'larg', 'data', 'set', 'use', 'backpropag', 'algorithm', 'indic', 'a', 'machin', 'chang', 'intern', 'paramet', 'are', 'use', 'comput', 'the', 'represent', 'each', 'layer', 'the', 'represent', 'the', 'previou', 'layer', 'deep', 'convolut', 'net', 'brought', 'breakthrough', 'process', 'imag', 'video', 'speech', 'audio', 'wherea', 'recurr', 'net', 'shone', 'light', 'sequenti', 'data', 'as', 'text', 'speech']\n",
      "\n",
      "Tokens after Lemmatization\n",
      " ['deep', 'learning', 'allows', 'computational', 'model', 'are', 'composed', 'multiple', 'processing', 'layer', 'learn', 'representation', 'data', 'multiple', 'level', 'abstraction', 'method', 'dramatically', 'improved', 'state', 'art', 'speech', 'recognition', 'visual', 'object', 'recognition', 'object', 'detection', 'many', 'domain', 'a', 'discovery', 'genomics', 'deep', 'learning', 'discovers', 'intricate', 'structure', 'large', 'data', 'set', 'using', 'backpropagation', 'algorithm', 'indicate', 'a', 'machine', 'change', 'internal', 'parameter', 'are', 'used', 'compute', 'the', 'representation', 'each', 'layer', 'the', 'representation', 'the', 'previous', 'layer', 'deep', 'convolutional', 'net', 'brought', 'breakthrough', 'processing', 'image', 'video', 'speech', 'audio', 'whereas', 'recurrent', 'net', 'shone', 'light', 'sequential', 'data', 'a', 'text', 'speech']\n"
     ]
    }
   ],
   "source": [
    "import nltk\n",
    "from nltk.corpus import stopwords,PlaintextCorpusReader\n",
    "from nltk.tokenize import word_tokenize, RegexpTokenizer\n",
    "from nltk.stem import PorterStemmer, WordNetLemmatizer\n",
    "\n",
    "stopw = set(stopwords.words())\n",
    "\n",
    "# Input: Filename\n",
    "print(\"Enter Filename : \")\n",
    "name = input()+'.txt'\n",
    "\n",
    "# Tokenizer to Read Words only and Ignore Punctuations\n",
    "tokenizer = RegexpTokenizer(r'\\w+')  \n",
    "with open (name) as fin:\n",
    "    tokens = tokenizer.tokenize(fin.read()) \n",
    "for item in tokens:\n",
    "    tokens[tokens.index(item)]=item.lower() \n",
    "print(\"\\nTokens before Stop Word Removal\\n\",tokens)\n",
    "\n",
    "# Stopword Removal\n",
    "for item in tokens:\n",
    "    if item in stopw:\n",
    "        tokens.remove(item)\n",
    "print(\"\\nTokens after Stop Word Removal\\n\",tokens)\n",
    "\n",
    "# Stemming\n",
    "ps = PorterStemmer()\n",
    "stemmed = []\n",
    "for item in tokens:\n",
    "    stemmed.append(ps.stem(item)) \n",
    "print(\"\\nTokens after Stemming\\n\",stemmed)\n",
    "\n",
    "# Lemmatization\n",
    "lem = WordNetLemmatizer()\n",
    "lemmatized = []\n",
    "for item in tokens:\n",
    "    lemmatized.append(lem.lemmatize(item))\n",
    "print(\"\\nTokens after Lemmatization\\n\",lemmatized)"
   ]
  },
  {
   "cell_type": "code",
   "execution_count": 50,
   "metadata": {},
   "outputs": [],
   "source": [
    "# Saving the Output in Files\n",
    "tokens = list(dict.fromkeys(tokens))  \n",
    "for item in tokens:\n",
    "    print(item,file=open(\"stopwordremoved.txt\",\"a\")) \n",
    "\n",
    "stemmed = list(dict.fromkeys(stemmed)) \n",
    "for item in stemmed:\n",
    "    print(item,file=open(\"stemmedword.txt\",\"a\")) \n",
    "\n",
    "lemmatized = list(dict.fromkeys(lemmatized)) \n",
    "for item in lemmatized:\n",
    "    print(item,file=open(\"lemmatizedword.txt\",\"a\")) "
   ]
  }
 ],
 "metadata": {
  "kernelspec": {
   "display_name": "Python 3",
   "language": "python",
   "name": "python3"
  },
  "language_info": {
   "codemirror_mode": {
    "name": "ipython",
    "version": 3
   },
   "file_extension": ".py",
   "mimetype": "text/x-python",
   "name": "python",
   "nbconvert_exporter": "python",
   "pygments_lexer": "ipython3",
   "version": "3.8.5"
  }
 },
 "nbformat": 4,
 "nbformat_minor": 2
}
